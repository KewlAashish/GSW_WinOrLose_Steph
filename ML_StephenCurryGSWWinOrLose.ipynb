{
  "nbformat": 4,
  "nbformat_minor": 0,
  "metadata": {
    "colab": {
      "name": "ML_StephenCurryGSWWinOrLose.ipynb",
      "provenance": [],
      "collapsed_sections": []
    },
    "kernelspec": {
      "name": "python3",
      "display_name": "Python 3"
    },
    "language_info": {
      "name": "python"
    }
  },
  "cells": [
    {
      "cell_type": "markdown",
      "metadata": {
        "id": "FN7PW3GRutNX"
      },
      "source": [
        "**Will Steph Curry make his team win given the conditions of that match which are basically Curry's stats of that match.**"
      ]
    },
    {
      "cell_type": "markdown",
      "metadata": {
        "id": "IXjiqwjyvDa-"
      },
      "source": [
        "So basically the dataset I'm using has various independent variables but I have considered only important features.\n",
        "\n",
        "Feature to be selected are: Dates , Opponent , Minutes , Successful Shots , Total Shots , 3 Points Successfull , Total 3 Points , Successful FT , Total FT , REB , AST , BLK , STL , PTS , Type\n",
        "\n",
        "Dependent variable/ Prediction : Result"
      ]
    },
    {
      "cell_type": "markdown",
      "metadata": {
        "id": "6AF5yTsrxPqx"
      },
      "source": [
        "**IMPORTING THE REQUIRED LIBRARIES**"
      ]
    },
    {
      "cell_type": "code",
      "metadata": {
        "id": "O6hxCEq_xWmE"
      },
      "source": [
        "import numpy as np\n",
        "import pandas as pd\n",
        "import matplotlib.pyplot as plt\n",
        "from sklearn.model_selection import train_test_split\n",
        "from sklearn.preprocessing import StandardScaler\n",
        "from sklearn.naive_bayes import GaussianNB\n",
        "from sklearn.metrics import confusion_matrix, accuracy_score\n",
        "from sklearn.preprocessing import LabelEncoder\n",
        "from sklearn.svm import SVC\n",
        "from sklearn.ensemble import RandomForestClassifier\n",
        "from sklearn.linear_model import LogisticRegression\n",
        "from sklearn.tree import DecisionTreeClassifier"
      ],
      "execution_count": 989,
      "outputs": []
    },
    {
      "cell_type": "markdown",
      "metadata": {
        "id": "VmRjbg3dyyKT"
      },
      "source": [
        "**IMPORTING THE DATASET**"
      ]
    },
    {
      "cell_type": "code",
      "metadata": {
        "id": "NiMfs7azy0uo"
      },
      "source": [
        "df_xlsx = pd.read_excel('Stephen Curry Stats.xlsx')\n",
        "df_xlsx.to_csv('csvfile.csv', encoding='utf-8', index=False)\n",
        "df = pd.read_csv('csvfile.csv')"
      ],
      "execution_count": 990,
      "outputs": []
    },
    {
      "cell_type": "markdown",
      "metadata": {
        "id": "3RStsSkhzigA"
      },
      "source": [
        "**GETTING A PEEK IN THE DATASET**"
      ]
    },
    {
      "cell_type": "code",
      "metadata": {
        "colab": {
          "base_uri": "https://localhost:8080/"
        },
        "id": "FPjfRhyfzmAN",
        "outputId": "af3f82d0-a7e8-467d-8533-f8af11fbc19d"
      },
      "source": [
        "df.dtypes"
      ],
      "execution_count": 991,
      "outputs": [
        {
          "output_type": "execute_result",
          "data": {
            "text/plain": [
              "Dates                 object\n",
              "Opponent              object\n",
              "Score                 object\n",
              "Minutes                int64\n",
              "Successful Shots       int64\n",
              "Total Shots            int64\n",
              "3 Points Succesful     int64\n",
              "Total 3 Points         int64\n",
              "Successful FT          int64\n",
              "Total FT               int64\n",
              "REB                    int64\n",
              "AST                    int64\n",
              "BLK                    int64\n",
              "STL                    int64\n",
              "PF                     int64\n",
              "TO                     int64\n",
              "PTS                    int64\n",
              "Type                  object\n",
              "Result                object\n",
              "Score GS               int64\n",
              "Score Opponent         int64\n",
              "dtype: object"
            ]
          },
          "metadata": {},
          "execution_count": 991
        }
      ]
    },
    {
      "cell_type": "code",
      "metadata": {
        "colab": {
          "base_uri": "https://localhost:8080/",
          "height": 425
        },
        "id": "XySTKqqd0RiI",
        "outputId": "bd86062b-5298-47d7-a9b5-cbacf53af3c2"
      },
      "source": [
        "df.head()"
      ],
      "execution_count": 992,
      "outputs": [
        {
          "output_type": "execute_result",
          "data": {
            "text/html": [
              "<div>\n",
              "<style scoped>\n",
              "    .dataframe tbody tr th:only-of-type {\n",
              "        vertical-align: middle;\n",
              "    }\n",
              "\n",
              "    .dataframe tbody tr th {\n",
              "        vertical-align: top;\n",
              "    }\n",
              "\n",
              "    .dataframe thead th {\n",
              "        text-align: right;\n",
              "    }\n",
              "</style>\n",
              "<table border=\"1\" class=\"dataframe\">\n",
              "  <thead>\n",
              "    <tr style=\"text-align: right;\">\n",
              "      <th></th>\n",
              "      <th>Dates</th>\n",
              "      <th>Opponent</th>\n",
              "      <th>Score</th>\n",
              "      <th>Minutes</th>\n",
              "      <th>Successful Shots</th>\n",
              "      <th>Total Shots</th>\n",
              "      <th>3 Points Succesful</th>\n",
              "      <th>Total 3 Points</th>\n",
              "      <th>Successful FT</th>\n",
              "      <th>Total FT</th>\n",
              "      <th>REB</th>\n",
              "      <th>AST</th>\n",
              "      <th>BLK</th>\n",
              "      <th>STL</th>\n",
              "      <th>PF</th>\n",
              "      <th>TO</th>\n",
              "      <th>PTS</th>\n",
              "      <th>Type</th>\n",
              "      <th>Result</th>\n",
              "      <th>Score GS</th>\n",
              "      <th>Score Opponent</th>\n",
              "    </tr>\n",
              "  </thead>\n",
              "  <tbody>\n",
              "    <tr>\n",
              "      <th>0</th>\n",
              "      <td>2009-10-28</td>\n",
              "      <td>HOU</td>\n",
              "      <td>L 107-108</td>\n",
              "      <td>36</td>\n",
              "      <td>7</td>\n",
              "      <td>12</td>\n",
              "      <td>0</td>\n",
              "      <td>1</td>\n",
              "      <td>0</td>\n",
              "      <td>0</td>\n",
              "      <td>2</td>\n",
              "      <td>7</td>\n",
              "      <td>0</td>\n",
              "      <td>4</td>\n",
              "      <td>2</td>\n",
              "      <td>2</td>\n",
              "      <td>14</td>\n",
              "      <td>REGULAR SEASON STATS</td>\n",
              "      <td>L</td>\n",
              "      <td>107</td>\n",
              "      <td>108</td>\n",
              "    </tr>\n",
              "    <tr>\n",
              "      <th>1</th>\n",
              "      <td>2009-10-30</td>\n",
              "      <td>PHX</td>\n",
              "      <td>L 101-123</td>\n",
              "      <td>39</td>\n",
              "      <td>5</td>\n",
              "      <td>9</td>\n",
              "      <td>2</td>\n",
              "      <td>3</td>\n",
              "      <td>0</td>\n",
              "      <td>0</td>\n",
              "      <td>2</td>\n",
              "      <td>4</td>\n",
              "      <td>0</td>\n",
              "      <td>1</td>\n",
              "      <td>5</td>\n",
              "      <td>3</td>\n",
              "      <td>12</td>\n",
              "      <td>REGULAR SEASON STATS</td>\n",
              "      <td>L</td>\n",
              "      <td>101</td>\n",
              "      <td>123</td>\n",
              "    </tr>\n",
              "    <tr>\n",
              "      <th>2</th>\n",
              "      <td>2009-11-04</td>\n",
              "      <td>MEM</td>\n",
              "      <td>W 113-105</td>\n",
              "      <td>28</td>\n",
              "      <td>3</td>\n",
              "      <td>6</td>\n",
              "      <td>1</td>\n",
              "      <td>2</td>\n",
              "      <td>0</td>\n",
              "      <td>0</td>\n",
              "      <td>5</td>\n",
              "      <td>9</td>\n",
              "      <td>0</td>\n",
              "      <td>2</td>\n",
              "      <td>4</td>\n",
              "      <td>1</td>\n",
              "      <td>7</td>\n",
              "      <td>REGULAR SEASON STATS</td>\n",
              "      <td>W</td>\n",
              "      <td>113</td>\n",
              "      <td>105</td>\n",
              "    </tr>\n",
              "    <tr>\n",
              "      <th>3</th>\n",
              "      <td>2009-11-06</td>\n",
              "      <td>LAC</td>\n",
              "      <td>L 90-118</td>\n",
              "      <td>22</td>\n",
              "      <td>1</td>\n",
              "      <td>5</td>\n",
              "      <td>0</td>\n",
              "      <td>1</td>\n",
              "      <td>3</td>\n",
              "      <td>4</td>\n",
              "      <td>1</td>\n",
              "      <td>3</td>\n",
              "      <td>0</td>\n",
              "      <td>0</td>\n",
              "      <td>6</td>\n",
              "      <td>0</td>\n",
              "      <td>5</td>\n",
              "      <td>REGULAR SEASON STATS</td>\n",
              "      <td>L</td>\n",
              "      <td>90</td>\n",
              "      <td>118</td>\n",
              "    </tr>\n",
              "    <tr>\n",
              "      <th>4</th>\n",
              "      <td>2009-11-08</td>\n",
              "      <td>SAC</td>\n",
              "      <td>L 107-120</td>\n",
              "      <td>31</td>\n",
              "      <td>4</td>\n",
              "      <td>8</td>\n",
              "      <td>1</td>\n",
              "      <td>2</td>\n",
              "      <td>0</td>\n",
              "      <td>2</td>\n",
              "      <td>4</td>\n",
              "      <td>6</td>\n",
              "      <td>0</td>\n",
              "      <td>0</td>\n",
              "      <td>4</td>\n",
              "      <td>5</td>\n",
              "      <td>9</td>\n",
              "      <td>REGULAR SEASON STATS</td>\n",
              "      <td>L</td>\n",
              "      <td>107</td>\n",
              "      <td>120</td>\n",
              "    </tr>\n",
              "  </tbody>\n",
              "</table>\n",
              "</div>"
            ],
            "text/plain": [
              "        Dates Opponent      Score  ...  Result  Score GS  Score Opponent\n",
              "0  2009-10-28      HOU  L 107-108  ...       L       107             108\n",
              "1  2009-10-30      PHX  L 101-123  ...       L       101             123\n",
              "2  2009-11-04      MEM  W 113-105  ...       W       113             105\n",
              "3  2009-11-06      LAC   L 90-118  ...       L        90             118\n",
              "4  2009-11-08      SAC  L 107-120  ...       L       107             120\n",
              "\n",
              "[5 rows x 21 columns]"
            ]
          },
          "metadata": {},
          "execution_count": 992
        }
      ]
    },
    {
      "cell_type": "markdown",
      "metadata": {
        "id": "Hpb7VS7G0U2N"
      },
      "source": [
        "**DROPPING NOT SO USEFUL DATA**"
      ]
    },
    {
      "cell_type": "code",
      "metadata": {
        "id": "YdqpuAkt0ZFb"
      },
      "source": [
        "df = df.drop(['Score' , 'PF' , 'TO' , 'Score Opponent' , 'Score GS' , 'Score Opponent'] , axis=1)"
      ],
      "execution_count": 993,
      "outputs": []
    },
    {
      "cell_type": "markdown",
      "metadata": {
        "id": "_dtFiTkw4BvS"
      },
      "source": [
        "**SINCE TYPE COLUMN HAS NAN VALUES SO WE NEED TO REMOVE ROWS WITH NAN VALUES**"
      ]
    },
    {
      "cell_type": "code",
      "metadata": {
        "colab": {
          "base_uri": "https://localhost:8080/"
        },
        "id": "4JK24hO73pQa",
        "outputId": "4d6a9219-4cf1-4f15-dcc4-27aab60f8d26"
      },
      "source": [
        "df['Type'].unique()"
      ],
      "execution_count": 994,
      "outputs": [
        {
          "output_type": "execute_result",
          "data": {
            "text/plain": [
              "array(['REGULAR SEASON STATS', nan, 'Conference Quarterfinals',\n",
              "       'Conference Semifinals', 'Conference Finals', 'NBA Finals'],\n",
              "      dtype=object)"
            ]
          },
          "metadata": {},
          "execution_count": 994
        }
      ]
    },
    {
      "cell_type": "code",
      "metadata": {
        "id": "9LO1pFaK4Oyx"
      },
      "source": [
        "df.dropna(subset = [\"Type\"], inplace=True)"
      ],
      "execution_count": 995,
      "outputs": []
    },
    {
      "cell_type": "markdown",
      "metadata": {
        "id": "b5rlOIqDgbcN"
      },
      "source": [
        "**SINCE THERE ARE ONLY 30 TEAMS IN NBA BUT WE HAVE 33 UNIQUE VALUES IN OUR OPPONENT COLUMN AND WE ONLY NEED 29 BECAUSE 30 - 1(GSW) = 29**\n",
        "\n",
        "1. REPLACE NJ COLUMNS WITH BKN SINCE THE TEAM IS SAME ONLY THE NAME HAVE CHANGED.\n",
        "\n",
        "2. REMOVE COLUMNS WITH EAST IN IT SINCE THERE IS NO SUCH TEAM.\n",
        "\n",
        "3. REMOCE COLUMNS WITH MCH , LEB ALSO."
      ]
    },
    {
      "cell_type": "code",
      "metadata": {
        "colab": {
          "base_uri": "https://localhost:8080/"
        },
        "id": "2jkb_i8M3ce0",
        "outputId": "01d3bf52-b463-4c83-c12d-a2ddda6de4a0"
      },
      "source": [
        "df['Opponent'].unique()"
      ],
      "execution_count": 996,
      "outputs": [
        {
          "output_type": "execute_result",
          "data": {
            "text/plain": [
              "array(['HOU', 'PHX', 'MEM', 'LAC', 'SAC', 'MIN', 'IND', 'NY', 'MIL',\n",
              "       'CLE', 'BOS', 'POR', 'DAL', 'SA', 'LAL', 'DEN', 'ORL', 'OKC', 'NJ',\n",
              "       'CHI', 'DET', 'PHI', 'WSH', 'NO', 'MIA', 'CHA', 'UTAH', 'ATL',\n",
              "       'TOR', 'BKN', 'EAST', 'LEB'], dtype=object)"
            ]
          },
          "metadata": {},
          "execution_count": 996
        }
      ]
    },
    {
      "cell_type": "code",
      "metadata": {
        "id": "eK3sBF7nhfY3"
      },
      "source": [
        "df = df.replace(to_replace =['NJ'],\n",
        "                 value =['BKN'])"
      ],
      "execution_count": 997,
      "outputs": []
    },
    {
      "cell_type": "code",
      "metadata": {
        "id": "uyoY0Cl3hqVR"
      },
      "source": [
        "df = df[df['Opponent'] != 'EAST']\n",
        "df = df[df['Opponent'] != 'MCH']\n",
        "df = df[df['Opponent'] != 'LEB']"
      ],
      "execution_count": 998,
      "outputs": []
    },
    {
      "cell_type": "code",
      "metadata": {
        "colab": {
          "base_uri": "https://localhost:8080/"
        },
        "id": "Qy5etLmZiUyy",
        "outputId": "de7f91ca-65d1-46f1-8c36-1b142c63579f"
      },
      "source": [
        "df['Opponent'].unique()"
      ],
      "execution_count": 999,
      "outputs": [
        {
          "output_type": "execute_result",
          "data": {
            "text/plain": [
              "array(['HOU', 'PHX', 'MEM', 'LAC', 'SAC', 'MIN', 'IND', 'NY', 'MIL',\n",
              "       'CLE', 'BOS', 'POR', 'DAL', 'SA', 'LAL', 'DEN', 'ORL', 'OKC',\n",
              "       'BKN', 'CHI', 'DET', 'PHI', 'WSH', 'NO', 'MIA', 'CHA', 'UTAH',\n",
              "       'ATL', 'TOR'], dtype=object)"
            ]
          },
          "metadata": {},
          "execution_count": 999
        }
      ]
    },
    {
      "cell_type": "markdown",
      "metadata": {
        "id": "TrZNaH_C0xLz"
      },
      "source": [
        "**CHANGING DTYPES OF SOME COLUMNS**\n",
        "\n",
        "Dates is changed from object dtype to DateTime\n",
        "\n",
        "Opponent to string\n",
        "\n",
        "Type and Result to string"
      ]
    },
    {
      "cell_type": "code",
      "metadata": {
        "colab": {
          "base_uri": "https://localhost:8080/"
        },
        "id": "-zUUH97L1TFE",
        "outputId": "61b8943b-feff-4296-d7b5-698aeab23289"
      },
      "source": [
        "df['Dates'] = pd.to_datetime(df['Dates'])\n",
        "print(df['Dates'].dtype)"
      ],
      "execution_count": 1000,
      "outputs": [
        {
          "output_type": "stream",
          "text": [
            "datetime64[ns]\n"
          ],
          "name": "stdout"
        }
      ]
    },
    {
      "cell_type": "code",
      "metadata": {
        "colab": {
          "base_uri": "https://localhost:8080/"
        },
        "id": "XERv0Ffv1pDR",
        "outputId": "b3b0328e-399c-4c65-86cf-2d705bd93ab4"
      },
      "source": [
        "df[\"Opponent\"] = df[\"Opponent\"].astype(\"|S\")\n",
        "print(df['Opponent'].dtype)"
      ],
      "execution_count": 1001,
      "outputs": [
        {
          "output_type": "stream",
          "text": [
            "|S4\n"
          ],
          "name": "stdout"
        }
      ]
    },
    {
      "cell_type": "code",
      "metadata": {
        "colab": {
          "base_uri": "https://localhost:8080/"
        },
        "id": "jePZZTdf1_Dd",
        "outputId": "d9d15149-a5b6-464f-d080-31fcd4b8d09d"
      },
      "source": [
        "df[\"Type\"] = df[\"Type\"].astype(\"|S\")\n",
        "print(df['Type'].dtype)"
      ],
      "execution_count": 1002,
      "outputs": [
        {
          "output_type": "stream",
          "text": [
            "|S24\n"
          ],
          "name": "stdout"
        }
      ]
    },
    {
      "cell_type": "code",
      "metadata": {
        "colab": {
          "base_uri": "https://localhost:8080/"
        },
        "id": "aDzjT8RK2A0f",
        "outputId": "5d083834-d10b-4edb-c9df-6d098b2a1553"
      },
      "source": [
        "df[\"Result\"] = df[\"Result\"].astype(\"|S\")\n",
        "print(df['Result'].dtype)"
      ],
      "execution_count": 1003,
      "outputs": [
        {
          "output_type": "stream",
          "text": [
            "|S1\n"
          ],
          "name": "stdout"
        }
      ]
    },
    {
      "cell_type": "markdown",
      "metadata": {
        "id": "36_JVMBo2Vbs"
      },
      "source": [
        "**CHECKING COLUMNS WITH NEED OF LABEL ENCODING:**\n",
        "\n",
        "1. Opponents\n",
        "\n",
        "2. Type\n",
        "\n",
        "3. Result"
      ]
    },
    {
      "cell_type": "code",
      "metadata": {
        "colab": {
          "base_uri": "https://localhost:8080/"
        },
        "id": "QJbacKdF4YPG",
        "outputId": "d6ed58fb-c586-4687-f8db-ca678626df49"
      },
      "source": [
        "lb = LabelEncoder()\n",
        "df['Opponent']= lb.fit_transform(df['Opponent'])\n",
        "df['Opponent'].unique()"
      ],
      "execution_count": 1004,
      "outputs": [
        {
          "output_type": "execute_result",
          "data": {
            "text/plain": [
              "array([ 9, 22, 13, 11, 25, 16, 10, 18, 15,  5,  2, 23,  6, 24, 12,  7, 20,\n",
              "       19,  1,  4,  8, 21, 28, 17, 14,  3, 27,  0, 26])"
            ]
          },
          "metadata": {},
          "execution_count": 1004
        }
      ]
    },
    {
      "cell_type": "code",
      "metadata": {
        "colab": {
          "base_uri": "https://localhost:8080/"
        },
        "id": "TVjf6Cig4RK6",
        "outputId": "d93f4163-7813-4043-977f-f8d9e8816538"
      },
      "source": [
        "df['Type'].unique()"
      ],
      "execution_count": 1005,
      "outputs": [
        {
          "output_type": "execute_result",
          "data": {
            "text/plain": [
              "array([b'REGULAR SEASON STATS', b'Conference Quarterfinals',\n",
              "       b'Conference Semifinals', b'Conference Finals', b'NBA Finals'],\n",
              "      dtype='|S24')"
            ]
          },
          "metadata": {},
          "execution_count": 1005
        }
      ]
    },
    {
      "cell_type": "code",
      "metadata": {
        "colab": {
          "base_uri": "https://localhost:8080/"
        },
        "id": "uVxXv0W75H0k",
        "outputId": "1228b18b-a7fa-4e40-deab-d3fa14532f64"
      },
      "source": [
        "df['Type']= lb.fit_transform(df['Type'])\n",
        "df['Type'].unique()"
      ],
      "execution_count": 1006,
      "outputs": [
        {
          "output_type": "execute_result",
          "data": {
            "text/plain": [
              "array([4, 1, 2, 0, 3])"
            ]
          },
          "metadata": {},
          "execution_count": 1006
        }
      ]
    },
    {
      "cell_type": "code",
      "metadata": {
        "colab": {
          "base_uri": "https://localhost:8080/"
        },
        "id": "PHCLM0n85Thz",
        "outputId": "80d869a4-e67d-450b-8c89-6b3454ab44e1"
      },
      "source": [
        "df['Result'].unique()"
      ],
      "execution_count": 1007,
      "outputs": [
        {
          "output_type": "execute_result",
          "data": {
            "text/plain": [
              "array([b'L', b'W'], dtype='|S1')"
            ]
          },
          "metadata": {},
          "execution_count": 1007
        }
      ]
    },
    {
      "cell_type": "code",
      "metadata": {
        "colab": {
          "base_uri": "https://localhost:8080/"
        },
        "id": "i0XF7j005YFa",
        "outputId": "4a6cd866-6dfe-48c9-e0e5-ad95beabd24a"
      },
      "source": [
        "df['Result']= lb.fit_transform(df['Result'])\n",
        "df['Result'].unique()"
      ],
      "execution_count": 1008,
      "outputs": [
        {
          "output_type": "execute_result",
          "data": {
            "text/plain": [
              "array([0, 1])"
            ]
          },
          "metadata": {},
          "execution_count": 1008
        }
      ]
    },
    {
      "cell_type": "markdown",
      "metadata": {
        "id": "1B6okayQ5jAS"
      },
      "source": [
        "**CHECKING THE NEW DATA FORMED AFTER LABEL ENCODING AND CLEANING**"
      ]
    },
    {
      "cell_type": "code",
      "metadata": {
        "colab": {
          "base_uri": "https://localhost:8080/",
          "height": 304
        },
        "id": "-HzQS1GH5pg7",
        "outputId": "ffda3c53-c318-461b-d53e-362deba2412b"
      },
      "source": [
        "df.head(5)"
      ],
      "execution_count": 1009,
      "outputs": [
        {
          "output_type": "execute_result",
          "data": {
            "text/html": [
              "<div>\n",
              "<style scoped>\n",
              "    .dataframe tbody tr th:only-of-type {\n",
              "        vertical-align: middle;\n",
              "    }\n",
              "\n",
              "    .dataframe tbody tr th {\n",
              "        vertical-align: top;\n",
              "    }\n",
              "\n",
              "    .dataframe thead th {\n",
              "        text-align: right;\n",
              "    }\n",
              "</style>\n",
              "<table border=\"1\" class=\"dataframe\">\n",
              "  <thead>\n",
              "    <tr style=\"text-align: right;\">\n",
              "      <th></th>\n",
              "      <th>Dates</th>\n",
              "      <th>Opponent</th>\n",
              "      <th>Minutes</th>\n",
              "      <th>Successful Shots</th>\n",
              "      <th>Total Shots</th>\n",
              "      <th>3 Points Succesful</th>\n",
              "      <th>Total 3 Points</th>\n",
              "      <th>Successful FT</th>\n",
              "      <th>Total FT</th>\n",
              "      <th>REB</th>\n",
              "      <th>AST</th>\n",
              "      <th>BLK</th>\n",
              "      <th>STL</th>\n",
              "      <th>PTS</th>\n",
              "      <th>Type</th>\n",
              "      <th>Result</th>\n",
              "    </tr>\n",
              "  </thead>\n",
              "  <tbody>\n",
              "    <tr>\n",
              "      <th>0</th>\n",
              "      <td>2009-10-28</td>\n",
              "      <td>9</td>\n",
              "      <td>36</td>\n",
              "      <td>7</td>\n",
              "      <td>12</td>\n",
              "      <td>0</td>\n",
              "      <td>1</td>\n",
              "      <td>0</td>\n",
              "      <td>0</td>\n",
              "      <td>2</td>\n",
              "      <td>7</td>\n",
              "      <td>0</td>\n",
              "      <td>4</td>\n",
              "      <td>14</td>\n",
              "      <td>4</td>\n",
              "      <td>0</td>\n",
              "    </tr>\n",
              "    <tr>\n",
              "      <th>1</th>\n",
              "      <td>2009-10-30</td>\n",
              "      <td>22</td>\n",
              "      <td>39</td>\n",
              "      <td>5</td>\n",
              "      <td>9</td>\n",
              "      <td>2</td>\n",
              "      <td>3</td>\n",
              "      <td>0</td>\n",
              "      <td>0</td>\n",
              "      <td>2</td>\n",
              "      <td>4</td>\n",
              "      <td>0</td>\n",
              "      <td>1</td>\n",
              "      <td>12</td>\n",
              "      <td>4</td>\n",
              "      <td>0</td>\n",
              "    </tr>\n",
              "    <tr>\n",
              "      <th>2</th>\n",
              "      <td>2009-11-04</td>\n",
              "      <td>13</td>\n",
              "      <td>28</td>\n",
              "      <td>3</td>\n",
              "      <td>6</td>\n",
              "      <td>1</td>\n",
              "      <td>2</td>\n",
              "      <td>0</td>\n",
              "      <td>0</td>\n",
              "      <td>5</td>\n",
              "      <td>9</td>\n",
              "      <td>0</td>\n",
              "      <td>2</td>\n",
              "      <td>7</td>\n",
              "      <td>4</td>\n",
              "      <td>1</td>\n",
              "    </tr>\n",
              "    <tr>\n",
              "      <th>3</th>\n",
              "      <td>2009-11-06</td>\n",
              "      <td>11</td>\n",
              "      <td>22</td>\n",
              "      <td>1</td>\n",
              "      <td>5</td>\n",
              "      <td>0</td>\n",
              "      <td>1</td>\n",
              "      <td>3</td>\n",
              "      <td>4</td>\n",
              "      <td>1</td>\n",
              "      <td>3</td>\n",
              "      <td>0</td>\n",
              "      <td>0</td>\n",
              "      <td>5</td>\n",
              "      <td>4</td>\n",
              "      <td>0</td>\n",
              "    </tr>\n",
              "    <tr>\n",
              "      <th>4</th>\n",
              "      <td>2009-11-08</td>\n",
              "      <td>25</td>\n",
              "      <td>31</td>\n",
              "      <td>4</td>\n",
              "      <td>8</td>\n",
              "      <td>1</td>\n",
              "      <td>2</td>\n",
              "      <td>0</td>\n",
              "      <td>2</td>\n",
              "      <td>4</td>\n",
              "      <td>6</td>\n",
              "      <td>0</td>\n",
              "      <td>0</td>\n",
              "      <td>9</td>\n",
              "      <td>4</td>\n",
              "      <td>0</td>\n",
              "    </tr>\n",
              "  </tbody>\n",
              "</table>\n",
              "</div>"
            ],
            "text/plain": [
              "       Dates  Opponent  Minutes  Successful Shots  ...  STL  PTS  Type  Result\n",
              "0 2009-10-28         9       36                 7  ...    4   14     4       0\n",
              "1 2009-10-30        22       39                 5  ...    1   12     4       0\n",
              "2 2009-11-04        13       28                 3  ...    2    7     4       1\n",
              "3 2009-11-06        11       22                 1  ...    0    5     4       0\n",
              "4 2009-11-08        25       31                 4  ...    0    9     4       0\n",
              "\n",
              "[5 rows x 16 columns]"
            ]
          },
          "metadata": {},
          "execution_count": 1009
        }
      ]
    },
    {
      "cell_type": "code",
      "metadata": {
        "colab": {
          "base_uri": "https://localhost:8080/"
        },
        "id": "EABaVBbn6F_S",
        "outputId": "6a496020-8ff3-4635-8eb2-fbea0226aeac"
      },
      "source": [
        "df.dtypes"
      ],
      "execution_count": 1010,
      "outputs": [
        {
          "output_type": "execute_result",
          "data": {
            "text/plain": [
              "Dates                 datetime64[ns]\n",
              "Opponent                       int64\n",
              "Minutes                        int64\n",
              "Successful Shots               int64\n",
              "Total Shots                    int64\n",
              "3 Points Succesful             int64\n",
              "Total 3 Points                 int64\n",
              "Successful FT                  int64\n",
              "Total FT                       int64\n",
              "REB                            int64\n",
              "AST                            int64\n",
              "BLK                            int64\n",
              "STL                            int64\n",
              "PTS                            int64\n",
              "Type                           int64\n",
              "Result                         int64\n",
              "dtype: object"
            ]
          },
          "metadata": {},
          "execution_count": 1010
        }
      ]
    },
    {
      "cell_type": "markdown",
      "metadata": {
        "id": "RQmJBhD28fdQ"
      },
      "source": [
        "**CHANGING DATETIME OF DATE COLUMN TO ONLY YEAR(FLOAT)**"
      ]
    },
    {
      "cell_type": "code",
      "metadata": {
        "id": "ao0Hxigd8nwM"
      },
      "source": [
        "df['Dates'] = pd.DatetimeIndex(df['Dates']).year"
      ],
      "execution_count": 1011,
      "outputs": []
    },
    {
      "cell_type": "code",
      "metadata": {
        "colab": {
          "base_uri": "https://localhost:8080/"
        },
        "id": "mj8OtQW385AL",
        "outputId": "7c8136db-104a-4e8c-ae63-eabd96d0665c"
      },
      "source": [
        "df.dtypes"
      ],
      "execution_count": 1012,
      "outputs": [
        {
          "output_type": "execute_result",
          "data": {
            "text/plain": [
              "Dates                 int64\n",
              "Opponent              int64\n",
              "Minutes               int64\n",
              "Successful Shots      int64\n",
              "Total Shots           int64\n",
              "3 Points Succesful    int64\n",
              "Total 3 Points        int64\n",
              "Successful FT         int64\n",
              "Total FT              int64\n",
              "REB                   int64\n",
              "AST                   int64\n",
              "BLK                   int64\n",
              "STL                   int64\n",
              "PTS                   int64\n",
              "Type                  int64\n",
              "Result                int64\n",
              "dtype: object"
            ]
          },
          "metadata": {},
          "execution_count": 1012
        }
      ]
    },
    {
      "cell_type": "markdown",
      "metadata": {
        "id": "9vTJlOyC6Nm7"
      },
      "source": [
        "**SPLITTING THE DATASET INTO TRAINING AND TESTING**"
      ]
    },
    {
      "cell_type": "code",
      "metadata": {
        "id": "pTORkw236xM1"
      },
      "source": [
        "x = df.iloc[: , :-1].values\n",
        "y = df.iloc[: , -1].values"
      ],
      "execution_count": 1013,
      "outputs": []
    },
    {
      "cell_type": "code",
      "metadata": {
        "id": "w6sTOqwI7Bw7"
      },
      "source": [
        "x_train, x_test, y_train, y_test = train_test_split(x, y, test_size = 0.25, random_state = 0)"
      ],
      "execution_count": 1014,
      "outputs": []
    },
    {
      "cell_type": "markdown",
      "metadata": {
        "id": "hfmyWVjj7byR"
      },
      "source": [
        "**FEATURE SCALING OUR DATA**"
      ]
    },
    {
      "cell_type": "code",
      "metadata": {
        "id": "ZretAzL67fti"
      },
      "source": [
        "sc = StandardScaler()\n",
        "x_train = sc.fit_transform(x_train)\n",
        "x_test = sc.fit_transform(x_test)"
      ],
      "execution_count": 1015,
      "outputs": []
    },
    {
      "cell_type": "markdown",
      "metadata": {
        "id": "GUFIeOMp71GV"
      },
      "source": [
        "**TRAINING OUR DATASET**"
      ]
    },
    {
      "cell_type": "markdown",
      "metadata": {
        "id": "M1b-7rPjW9iV"
      },
      "source": [
        "**MODEL 1 : NAIVE BAYES**"
      ]
    },
    {
      "cell_type": "code",
      "metadata": {
        "colab": {
          "base_uri": "https://localhost:8080/"
        },
        "id": "uz1RHMM873_L",
        "outputId": "c61be802-2973-483c-e5aa-143146fe5e1a"
      },
      "source": [
        "model1 = GaussianNB()\n",
        "model1.fit(x_train , y_train)"
      ],
      "execution_count": 1016,
      "outputs": [
        {
          "output_type": "execute_result",
          "data": {
            "text/plain": [
              "GaussianNB(priors=None, var_smoothing=1e-09)"
            ]
          },
          "metadata": {},
          "execution_count": 1016
        }
      ]
    },
    {
      "cell_type": "code",
      "metadata": {
        "id": "9930vvM39oso"
      },
      "source": [
        "y_pred = model1.predict(x_test)"
      ],
      "execution_count": 1017,
      "outputs": []
    },
    {
      "cell_type": "code",
      "metadata": {
        "colab": {
          "base_uri": "https://localhost:8080/"
        },
        "id": "7N7VwJj594tE",
        "outputId": "320f9b26-15ea-4dc1-8281-611da5f408ca"
      },
      "source": [
        "cm = confusion_matrix(y_test, y_pred)\n",
        "print(cm)\n",
        "accuracy_score(y_test, y_pred)"
      ],
      "execution_count": 1018,
      "outputs": [
        {
          "output_type": "stream",
          "text": [
            "[[41 37]\n",
            " [31 99]]\n"
          ],
          "name": "stdout"
        },
        {
          "output_type": "execute_result",
          "data": {
            "text/plain": [
              "0.6730769230769231"
            ]
          },
          "metadata": {},
          "execution_count": 1018
        }
      ]
    },
    {
      "cell_type": "markdown",
      "metadata": {
        "id": "FjKnZENlBtD9"
      },
      "source": [
        "**MODEL 2 : SVC NON LINEAR**"
      ]
    },
    {
      "cell_type": "code",
      "metadata": {
        "colab": {
          "base_uri": "https://localhost:8080/"
        },
        "id": "_8MUizNABl3l",
        "outputId": "3e69cc1d-4129-44b5-da12-77160b62c8dc"
      },
      "source": [
        "model2 = SVC(kernel = 'rbf', random_state = 0)\n",
        "model2.fit(x_train, y_train)"
      ],
      "execution_count": 1019,
      "outputs": [
        {
          "output_type": "execute_result",
          "data": {
            "text/plain": [
              "SVC(C=1.0, break_ties=False, cache_size=200, class_weight=None, coef0=0.0,\n",
              "    decision_function_shape='ovr', degree=3, gamma='scale', kernel='rbf',\n",
              "    max_iter=-1, probability=False, random_state=0, shrinking=True, tol=0.001,\n",
              "    verbose=False)"
            ]
          },
          "metadata": {},
          "execution_count": 1019
        }
      ]
    },
    {
      "cell_type": "code",
      "metadata": {
        "id": "Q_x4WGvBB7Rd"
      },
      "source": [
        "y_pred = model2.predict(x_test)"
      ],
      "execution_count": 1020,
      "outputs": []
    },
    {
      "cell_type": "code",
      "metadata": {
        "colab": {
          "base_uri": "https://localhost:8080/"
        },
        "id": "4y0uN4hzCEJj",
        "outputId": "d51cd15c-6feb-417a-92d6-0fc0e0a9a269"
      },
      "source": [
        "cm = confusion_matrix(y_test, y_pred)\n",
        "print(cm)\n",
        "accuracy_score(y_test, y_pred)"
      ],
      "execution_count": 1021,
      "outputs": [
        {
          "output_type": "stream",
          "text": [
            "[[ 37  41]\n",
            " [ 16 114]]\n"
          ],
          "name": "stdout"
        },
        {
          "output_type": "execute_result",
          "data": {
            "text/plain": [
              "0.7259615384615384"
            ]
          },
          "metadata": {},
          "execution_count": 1021
        }
      ]
    },
    {
      "cell_type": "markdown",
      "metadata": {
        "id": "G5dj5vxkCKRo"
      },
      "source": [
        "**MODEL 3 : SVC LINEAR**"
      ]
    },
    {
      "cell_type": "code",
      "metadata": {
        "colab": {
          "base_uri": "https://localhost:8080/"
        },
        "id": "V7zHGqvqCJOl",
        "outputId": "f3a872ec-50e0-40ac-cd49-94d036be34d2"
      },
      "source": [
        "model3 = SVC(kernel = 'linear', random_state = 0)\n",
        "model3.fit(x_train, y_train)"
      ],
      "execution_count": 1022,
      "outputs": [
        {
          "output_type": "execute_result",
          "data": {
            "text/plain": [
              "SVC(C=1.0, break_ties=False, cache_size=200, class_weight=None, coef0=0.0,\n",
              "    decision_function_shape='ovr', degree=3, gamma='scale', kernel='linear',\n",
              "    max_iter=-1, probability=False, random_state=0, shrinking=True, tol=0.001,\n",
              "    verbose=False)"
            ]
          },
          "metadata": {},
          "execution_count": 1022
        }
      ]
    },
    {
      "cell_type": "code",
      "metadata": {
        "id": "XCirznXwCZWY"
      },
      "source": [
        "y_pred = model3.predict(x_test)"
      ],
      "execution_count": 1023,
      "outputs": []
    },
    {
      "cell_type": "code",
      "metadata": {
        "colab": {
          "base_uri": "https://localhost:8080/"
        },
        "id": "EcjL_qBECcKA",
        "outputId": "73bd63c8-5e2a-427c-bf29-8230129170f0"
      },
      "source": [
        "cm = confusion_matrix(y_test, y_pred)\n",
        "print(cm)\n",
        "accuracy_score(y_test, y_pred)"
      ],
      "execution_count": 1024,
      "outputs": [
        {
          "output_type": "stream",
          "text": [
            "[[ 44  34]\n",
            " [ 24 106]]\n"
          ],
          "name": "stdout"
        },
        {
          "output_type": "execute_result",
          "data": {
            "text/plain": [
              "0.7211538461538461"
            ]
          },
          "metadata": {},
          "execution_count": 1024
        }
      ]
    },
    {
      "cell_type": "markdown",
      "metadata": {
        "id": "9eff-affC2fk"
      },
      "source": [
        "**MODEL 4 : RANDOM FOREST CLASSIFIER**"
      ]
    },
    {
      "cell_type": "code",
      "metadata": {
        "colab": {
          "base_uri": "https://localhost:8080/"
        },
        "id": "xnHZvMCsC9B8",
        "outputId": "589b763f-84e1-4a7d-ff28-e0cb98f8cb53"
      },
      "source": [
        "model4 = RandomForestClassifier(n_estimators = 5, criterion = 'entropy', random_state = 0)\n",
        "model4.fit(x_train, y_train)"
      ],
      "execution_count": 1025,
      "outputs": [
        {
          "output_type": "execute_result",
          "data": {
            "text/plain": [
              "RandomForestClassifier(bootstrap=True, ccp_alpha=0.0, class_weight=None,\n",
              "                       criterion='entropy', max_depth=None, max_features='auto',\n",
              "                       max_leaf_nodes=None, max_samples=None,\n",
              "                       min_impurity_decrease=0.0, min_impurity_split=None,\n",
              "                       min_samples_leaf=1, min_samples_split=2,\n",
              "                       min_weight_fraction_leaf=0.0, n_estimators=5,\n",
              "                       n_jobs=None, oob_score=False, random_state=0, verbose=0,\n",
              "                       warm_start=False)"
            ]
          },
          "metadata": {},
          "execution_count": 1025
        }
      ]
    },
    {
      "cell_type": "code",
      "metadata": {
        "id": "DFjgXcp7DFyU"
      },
      "source": [
        "y_pred = model4.predict(x_test)"
      ],
      "execution_count": 1026,
      "outputs": []
    },
    {
      "cell_type": "code",
      "metadata": {
        "colab": {
          "base_uri": "https://localhost:8080/"
        },
        "id": "StQSKp8TDNoY",
        "outputId": "ff5cb842-1cd8-4b1d-d704-f9dba09c78c6"
      },
      "source": [
        "cm = confusion_matrix(y_test, y_pred)\n",
        "print(cm)\n",
        "accuracy_score(y_test, y_pred)"
      ],
      "execution_count": 1027,
      "outputs": [
        {
          "output_type": "stream",
          "text": [
            "[[36 42]\n",
            " [31 99]]\n"
          ],
          "name": "stdout"
        },
        {
          "output_type": "execute_result",
          "data": {
            "text/plain": [
              "0.6490384615384616"
            ]
          },
          "metadata": {},
          "execution_count": 1027
        }
      ]
    },
    {
      "cell_type": "markdown",
      "metadata": {
        "id": "nN7SBI5zFONL"
      },
      "source": [
        "**MODEL 5 : LOGISTIC REGRESSION**"
      ]
    },
    {
      "cell_type": "code",
      "metadata": {
        "colab": {
          "base_uri": "https://localhost:8080/"
        },
        "id": "52jkfF15FSii",
        "outputId": "9aa95d97-2e4b-461e-83dc-420dea3be26c"
      },
      "source": [
        "model5 = LogisticRegression(random_state= 0)\n",
        "model5.fit(x_train , y_train)"
      ],
      "execution_count": 1028,
      "outputs": [
        {
          "output_type": "execute_result",
          "data": {
            "text/plain": [
              "LogisticRegression(C=1.0, class_weight=None, dual=False, fit_intercept=True,\n",
              "                   intercept_scaling=1, l1_ratio=None, max_iter=100,\n",
              "                   multi_class='auto', n_jobs=None, penalty='l2',\n",
              "                   random_state=0, solver='lbfgs', tol=0.0001, verbose=0,\n",
              "                   warm_start=False)"
            ]
          },
          "metadata": {},
          "execution_count": 1028
        }
      ]
    },
    {
      "cell_type": "code",
      "metadata": {
        "id": "m_xaQD3mFkNY"
      },
      "source": [
        "y_pred = model5.predict(x_test)"
      ],
      "execution_count": 1029,
      "outputs": []
    },
    {
      "cell_type": "code",
      "metadata": {
        "colab": {
          "base_uri": "https://localhost:8080/"
        },
        "id": "y0MXX1NjFo3A",
        "outputId": "8b827970-d2ae-402c-c118-c673a1312cb6"
      },
      "source": [
        "cm = confusion_matrix(y_test, y_pred)\n",
        "print(cm)\n",
        "accuracy_score(y_test, y_pred)"
      ],
      "execution_count": 1030,
      "outputs": [
        {
          "output_type": "stream",
          "text": [
            "[[ 44  34]\n",
            " [ 23 107]]\n"
          ],
          "name": "stdout"
        },
        {
          "output_type": "execute_result",
          "data": {
            "text/plain": [
              "0.7259615384615384"
            ]
          },
          "metadata": {},
          "execution_count": 1030
        }
      ]
    },
    {
      "cell_type": "markdown",
      "metadata": {
        "id": "IdScOO7aGnyS"
      },
      "source": [
        "**MODEL 6 : DECISION TREE**"
      ]
    },
    {
      "cell_type": "code",
      "metadata": {
        "colab": {
          "base_uri": "https://localhost:8080/"
        },
        "id": "Ntnr3KIsGsGx",
        "outputId": "6577ef7d-99e5-46b1-b9f4-1559c7b74df7"
      },
      "source": [
        "model6 = DecisionTreeClassifier(criterion = 'entropy', random_state = 0)\n",
        "model6.fit(x_train, y_train)"
      ],
      "execution_count": 1031,
      "outputs": [
        {
          "output_type": "execute_result",
          "data": {
            "text/plain": [
              "DecisionTreeClassifier(ccp_alpha=0.0, class_weight=None, criterion='entropy',\n",
              "                       max_depth=None, max_features=None, max_leaf_nodes=None,\n",
              "                       min_impurity_decrease=0.0, min_impurity_split=None,\n",
              "                       min_samples_leaf=1, min_samples_split=2,\n",
              "                       min_weight_fraction_leaf=0.0, presort='deprecated',\n",
              "                       random_state=0, splitter='best')"
            ]
          },
          "metadata": {},
          "execution_count": 1031
        }
      ]
    },
    {
      "cell_type": "code",
      "metadata": {
        "id": "YVSjJFCmG_wR"
      },
      "source": [
        "y_pred = model6.predict(x_test)"
      ],
      "execution_count": 1032,
      "outputs": []
    },
    {
      "cell_type": "code",
      "metadata": {
        "colab": {
          "base_uri": "https://localhost:8080/"
        },
        "id": "u5D1pEoJHCz9",
        "outputId": "8b9b01c3-320d-4150-e75d-d16253c3c66d"
      },
      "source": [
        "cm = confusion_matrix(y_test, y_pred)\n",
        "print(cm)\n",
        "accuracy_score(y_test, y_pred)"
      ],
      "execution_count": 1033,
      "outputs": [
        {
          "output_type": "stream",
          "text": [
            "[[35 43]\n",
            " [37 93]]\n"
          ],
          "name": "stdout"
        },
        {
          "output_type": "execute_result",
          "data": {
            "text/plain": [
              "0.6153846153846154"
            ]
          },
          "metadata": {},
          "execution_count": 1033
        }
      ]
    },
    {
      "cell_type": "markdown",
      "metadata": {
        "id": "Gw1XFiwMKJvR"
      },
      "source": [
        "**CONCLUSION**\n",
        "\n",
        "SINCE IT IS VISIBLE THAT OUR MODEL OF LOGISTIC REGRESSION HAD THE BEST ACCURACY SO THAT'S OUR FINAL MODEL AFTER THE COMPLETE EVALUATION. ALSO RATHER THAT SPLITTING OUR DATASET TO TRAIN AND TEST, I'M TRAINING OUR WHOLE DATASET WITH LOGISTIC REGRESSION. IT WILL BE MORE BENEFICIAL."
      ]
    },
    {
      "cell_type": "code",
      "metadata": {
        "colab": {
          "base_uri": "https://localhost:8080/"
        },
        "id": "1ThP5vsIK6yj",
        "outputId": "d3317daf-13e7-45f8-d1bf-73e17e9d1bc0"
      },
      "source": [
        "modelfinal = LogisticRegression(random_state= 0)\n",
        "modelfinal.fit(sc.fit_transform(x) , y)"
      ],
      "execution_count": 1034,
      "outputs": [
        {
          "output_type": "execute_result",
          "data": {
            "text/plain": [
              "LogisticRegression(C=1.0, class_weight=None, dual=False, fit_intercept=True,\n",
              "                   intercept_scaling=1, l1_ratio=None, max_iter=100,\n",
              "                   multi_class='auto', n_jobs=None, penalty='l2',\n",
              "                   random_state=0, solver='lbfgs', tol=0.0001, verbose=0,\n",
              "                   warm_start=False)"
            ]
          },
          "metadata": {},
          "execution_count": 1034
        }
      ]
    },
    {
      "cell_type": "code",
      "metadata": {
        "id": "oO5jkpPuL3ab"
      },
      "source": [
        "y_pred = modelfinal.predict(x_test)"
      ],
      "execution_count": 1035,
      "outputs": []
    },
    {
      "cell_type": "code",
      "metadata": {
        "colab": {
          "base_uri": "https://localhost:8080/"
        },
        "id": "SJB2agigL0By",
        "outputId": "90745170-1b41-4b13-fd42-b4de20573d65"
      },
      "source": [
        "cm = confusion_matrix(y_test, y_pred)\n",
        "print(cm)\n",
        "accuracy_score(y_test, y_pred)"
      ],
      "execution_count": 1036,
      "outputs": [
        {
          "output_type": "stream",
          "text": [
            "[[ 50  28]\n",
            " [ 24 106]]\n"
          ],
          "name": "stdout"
        },
        {
          "output_type": "execute_result",
          "data": {
            "text/plain": [
              "0.75"
            ]
          },
          "metadata": {},
          "execution_count": 1036
        }
      ]
    },
    {
      "cell_type": "markdown",
      "metadata": {
        "id": "rHGfcJS3XxzW"
      },
      "source": [
        "**FUNCTION FOR MAKING PREDICTIONS EASIER**"
      ]
    },
    {
      "cell_type": "markdown",
      "metadata": {
        "id": "h9GSJbkOWyZk"
      },
      "source": [
        "**MAKING PREDICTIONS**"
      ]
    },
    {
      "cell_type": "code",
      "metadata": {
        "colab": {
          "base_uri": "https://localhost:8080/"
        },
        "id": "DqD3sTTlX3Ze",
        "outputId": "95da8dc0-75ca-4449-fc09-34eee4c28f88"
      },
      "source": [
        "def PredictingGames():\n",
        "  inputs = [[]]\n",
        "  NBAYear = int(input(\"Enter the year\"))\n",
        "  inputs[0].append(NBAYear)\n",
        "  print(inputs[0][-1])\n",
        "\n",
        "  opponent = input(\"Enter the team :\")\n",
        "  if opponent == 'HOU':\n",
        "    inputs[0].append(9)\n",
        "  elif opponent == 'PHX':\n",
        "    inputs[0].append(22)\n",
        "  elif opponent == 'MEM':\n",
        "    inputs[0].append(13)\n",
        "  elif opponent == 'LAC':\n",
        "    inputs[0].append(11)\n",
        "  elif opponent == 'SAC':\n",
        "    inputs[0].append(25)\n",
        "  elif opponent == 'MIN':\n",
        "    inputs[0].append(16)\n",
        "  elif opponent == 'IND':\n",
        "    inputs[0].append(10)\n",
        "  elif opponent == 'NY':\n",
        "    inputs[0].append(18)\n",
        "  elif opponent == 'MIL':\n",
        "    inputs[0].append(15)\n",
        "  elif opponent == 'CLE':\n",
        "    inputs[0].append(5)\n",
        "  elif opponent == 'BOS':\n",
        "    inputs[0].append(2)\n",
        "  elif opponent == 'POR':\n",
        "    inputs[0].append(23)\n",
        "  elif opponent == 'DAL':\n",
        "    inputs[0].append(6)\n",
        "  elif opponent == 'SA':\n",
        "    inputs[0].append(24)\n",
        "  elif opponent == 'LAL':\n",
        "    inputs[0].append(12)\n",
        "  elif opponent == 'DEN':\n",
        "    inputs[0].append(7)\n",
        "  elif opponent == 'ORL':\n",
        "    inputs[0].append(20)\n",
        "  elif opponent == 'OKC':\n",
        "    inputs[0].append(19)\n",
        "  elif opponent == 'CHI':\n",
        "    inputs[0].append(4)\n",
        "  elif opponent == 'DET':\n",
        "    inputs[0].append(8)\n",
        "  elif opponent == 'PHI':\n",
        "    inputs[0].append(21)\n",
        "  elif opponent == 'WSH':\n",
        "    inputs[0].append(28)\n",
        "  elif opponent == 'NO':\n",
        "    inputs[0].append(17)\n",
        "  elif opponent == 'MIA':\n",
        "    inputs[0].append(14)\n",
        "  elif opponent == 'CHA':\n",
        "    inputs[0].append(3)\n",
        "  elif opponent == 'UTAH':\n",
        "    inputs[0].append(27)\n",
        "  elif opponent == 'ATL':\n",
        "    inputs[0].append(0)\n",
        "  elif opponent == 'TOR':\n",
        "    inputs[0].append(26)\n",
        "  elif opponent == 'BKN':\n",
        "    inputs[0].append(1)\n",
        "    print(opponent , inputs[0][-1])\n",
        "  else:\n",
        "    print(\"NO SUCH TEAM\")\n",
        "    return\n",
        "  \n",
        "\n",
        "  minutes = int(input(\"Enter the time in minutes curry played :\"))\n",
        "  inputs[0].append(minutes)\n",
        "  print(inputs[0][-1])\n",
        "\n",
        "  SuccessfulShots = int(input(\"Enter the total successful shots curry was able to make\"))\n",
        "  inputs[0].append(SuccessfulShots)\n",
        "  print(inputs[0][-1])\n",
        "\n",
        "  TotalShots = int(input(\"Enter the total shots curry took :\"))\n",
        "  inputs[0].append(TotalShots)\n",
        "  print(inputs[0][-1])\n",
        "\n",
        "  ThreePointsSuccessfull = int(input(\"Enter the total successful three pointer shots curry made :\"))\n",
        "  inputs[0].append(ThreePointsSuccessfull)\n",
        "  print(inputs[0][-1])\n",
        "\n",
        "  TotalThreePoints = int(input(\"Enter the total three pointer shots curry took :\"))\n",
        "  inputs[0].append(TotalThreePoints)\n",
        "  print(inputs[0][-1])\n",
        "\n",
        "  FreeThrowSuccessfull = int(input(\"Enter the total successful Free Throw shots curry made :\"))\n",
        "  inputs[0].append(FreeThrowSuccessfull)\n",
        "  print(inputs[0][-1])\n",
        "\n",
        "  TotalFreeThrow = int(input(\"Enter the total Free Throw curry took :\"))\n",
        "  inputs[0].append(TotalFreeThrow)\n",
        "  print(inputs[0][-1])\n",
        "\n",
        "  Rebound = int(input(\"Total rebounds curry made : \"))\n",
        "  inputs[0].append(Rebound)\n",
        "  print(inputs[0][-1])\n",
        "\n",
        "  Assist = int(input(\"Total Assists curry made : \"))\n",
        "  inputs[0].append(Assist)\n",
        "  print(inputs[0][-1])\n",
        "\n",
        "  Block = int(input(\"Total Block curry made : \"))\n",
        "  inputs[0].append(Block)\n",
        "  print(inputs[0][-1])\n",
        "\n",
        "  Steal = int(input(\"Total Steal curry made : \"))\n",
        "  inputs[0].append(Steal)\n",
        "  print(inputs[0][-1])\n",
        "\n",
        "  Points = int(input(\"Total Points curry had : \"))\n",
        "  inputs[0].append(Points)\n",
        "  print(inputs[0][-1])\n",
        "\n",
        "  Types = input(\"What was the match type : (0 for Conference Finals ; 1 for Conference QuarterFinals ; 2 for Conference SemiFinals ; 3 for NBA Finals ; 4 for Regulas Season)\")\n",
        "  inputs[0].append(Types)\n",
        "\n",
        "  inputs = np.array(inputs)\n",
        "  inputs = inputs.astype(np.float64)\n",
        "  inputs = sc.fit_transform(inputs)\n",
        "  result = modelfinal.predict((inputs))\n",
        "  if result == 1:\n",
        "    print(\"Golden State Warriors WON!!\")\n",
        "  else:\n",
        "    print(\"Golden State Warriors LOST!!\")\n",
        "\n",
        "  \n",
        "\n",
        "PredictingGames()"
      ],
      "execution_count": 1037,
      "outputs": [
        {
          "output_type": "stream",
          "text": [
            "Enter the year2021\n",
            "2021\n",
            "Enter the team :CHI\n",
            "Enter the time in minutes curry played :34\n",
            "34\n",
            "Enter the total successful shots curry was able to make13\n",
            "13\n",
            "Enter the total shots curry took :19\n",
            "19\n",
            "Enter the total successful three pointer shots curry made :13\n",
            "13\n",
            "Enter the total three pointer shots curry took :19\n",
            "19\n",
            "Enter the total successful Free Throw shots curry made :0\n",
            "0\n",
            "Enter the total Free Throw curry took :0\n",
            "0\n",
            "Total rebounds curry made : 3\n",
            "3\n",
            "Total Assists curry made : 9\n",
            "9\n",
            "Total Block curry made : 1\n",
            "1\n",
            "Total Steal curry made : 3\n",
            "3\n",
            "Total Points curry had : 41\n",
            "41\n",
            "What was the match type : (0 for Conference Finals ; 1 for Conference QuarterFinals ; 2 for Conference SemiFinals ; 3 for NBA Finals ; 4 for Regulas Season)3\n",
            "Golden State Warriors WON!!\n"
          ],
          "name": "stdout"
        }
      ]
    }
  ]
}